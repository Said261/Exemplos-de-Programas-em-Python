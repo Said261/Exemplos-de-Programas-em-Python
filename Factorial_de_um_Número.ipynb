{
  "nbformat": 4,
  "nbformat_minor": 0,
  "metadata": {
    "colab": {
      "provenance": [],
      "authorship_tag": "ABX9TyPVzUSVu+JmG8iVtBEsO+6+",
      "include_colab_link": true
    },
    "kernelspec": {
      "name": "python3",
      "display_name": "Python 3"
    },
    "language_info": {
      "name": "python"
    }
  },
  "cells": [
    {
      "cell_type": "markdown",
      "metadata": {
        "id": "view-in-github",
        "colab_type": "text"
      },
      "source": [
        "<a href=\"https://colab.research.google.com/github/Said261/Exemplos-de-Programas-em-Python/blob/main/Factorial_de_um_N%C3%BAmero.ipynb\" target=\"_parent\"><img src=\"https://colab.research.google.com/assets/colab-badge.svg\" alt=\"Open In Colab\"/></a>"
      ]
    },
    {
      "cell_type": "markdown",
      "source": [
        "# No seguinte programa vamos determinar o fatorial de um número usando os conceitos de recursividade no Python\n",
        "\n",
        "1. Definimos a nossa função \"FirstFactorial\"\n",
        "2. O valor de entrada que recebe nossa função é comparado com zero ou um aplicando um condicional \"if\". Se for igual que alguns de esses valores a função retorna o valor 1\n",
        "3. Se o valor de entrada for maior que 1, então definimos um resultado como o produto entre o número introduzido pelo usuário e a própria função avaliada em número -1 (recursividade) e ao concluir esse processo, retorna o resultado"
      ],
      "metadata": {
        "id": "WMz-fQISeqS9"
      }
    },
    {
      "cell_type": "code",
      "execution_count": 6,
      "metadata": {
        "id": "1leR0hZEtRDG"
      },
      "outputs": [],
      "source": [
        "def FirstFactorial(num):\n",
        "  if num == 0 or num == 1:\n",
        "    resultadoFactorial = 1\n",
        "    return resultadoFactorial\n",
        "  elif num > 1:\n",
        "    resultadoFactorial = num*FirstFactorial(num-1)\n",
        "    return resultadoFactorial"
      ]
    },
    {
      "cell_type": "markdown",
      "source": [
        "### Testamos nosso código"
      ],
      "metadata": {
        "id": "ZgXvSeQbhnBH"
      }
    },
    {
      "cell_type": "code",
      "source": [
        "print(FirstFactorial(int(input())))"
      ],
      "metadata": {
        "id": "HyumVBktujdD",
        "colab": {
          "base_uri": "https://localhost:8080/"
        },
        "outputId": "a0c09129-d9f1-4865-c07e-47ec2e97ed73"
      },
      "execution_count": 8,
      "outputs": [
        {
          "output_type": "stream",
          "name": "stdout",
          "text": [
            "4\n",
            "24\n"
          ]
        }
      ]
    }
  ]
}