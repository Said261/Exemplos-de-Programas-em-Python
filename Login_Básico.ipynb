{
  "nbformat": 4,
  "nbformat_minor": 0,
  "metadata": {
    "colab": {
      "provenance": [],
      "authorship_tag": "ABX9TyO3yOl0nDHKqKy+oseiX3ag",
      "include_colab_link": true
    },
    "kernelspec": {
      "name": "python3",
      "display_name": "Python 3"
    },
    "language_info": {
      "name": "python"
    }
  },
  "cells": [
    {
      "cell_type": "markdown",
      "metadata": {
        "id": "view-in-github",
        "colab_type": "text"
      },
      "source": [
        "<a href=\"https://colab.research.google.com/github/Said261/Exemplos-de-Programas-em-Python/blob/main/Login_B%C3%A1sico.ipynb\" target=\"_parent\"><img src=\"https://colab.research.google.com/assets/colab-badge.svg\" alt=\"Open In Colab\"/></a>"
      ]
    },
    {
      "cell_type": "markdown",
      "source": [
        "# Cadatro e verificação de Login e Senha\n",
        "\n",
        "## No presente código vai se apresentar como se constrói (um toy model) de um controlador de login e senha para acesso em nosso E-mail."
      ],
      "metadata": {
        "id": "3mzRPLGELzIb"
      }
    },
    {
      "cell_type": "markdown",
      "source": [
        "## Corpo do programa"
      ],
      "metadata": {
        "id": "HTkqlAFyxsVL"
      }
    },
    {
      "cell_type": "code",
      "source": [
        "# Declaram-se as variáveis que utilizaremos logo a seguir:\n",
        "\n",
        "numeroTentativas, keyIndex, keyNome, keySobrenome, keyLogin, keySenha = 0, 1, None, None, None, None\n",
        "listaDatos = [[1,'s','l','sl@gmail.com','123']] #A lista contem o usuário teste \"['Index':1,'Nome':'s','sobrenome':'l','login':'sl@gmail.com','senha':'123']\"\n",
        "\n",
        "# Solicitam-se as informações do procedimento ao usuário:\n",
        "\n",
        "varAcao_ussuario = str(input('Por favor, informe qual o procedimento desejado (\"Cadastro\")? '))\n",
        "acaoUssuario = varAcao_ussuario.lower()\n",
        "\n",
        "# Se a ação escolhida for cadastro, solicitam-se as informações do usuário a serem cadastradas (Ex.: Nome, Sobrenome, email, senha):\n",
        "\n",
        "if acaoUssuario == 'cadastro':\n",
        "  print('Por favor ingresar os dados solicitados')\n",
        "  keyNome = str(input('Por favor, informe seu Nome: ')).lower()\n",
        "  keySobrenome = str(input('Por favor, informe seu Sobrenome: ')).lower()\n",
        "  keyLogin = str(input('Por favor, informe seu E-mail (Login): ')).lower()\n",
        "  keySenha = str(input('Por favor, informe sua Senha: '))\n",
        "  \n",
        "  # Verifica-se se as informações inseridas são corretas:\n",
        "\n",
        "  if ((keyNome != ' ') and (keySobrenome != ' ')) and (keySenha != ' '):\n",
        "    if ('@' in keyLogin) and (('gmail.com' in keyLogin) or (('hotmail.com' in keyLogin) or ('outlook.com' in keyLogin))):\n",
        "      keyIndex += 1\n",
        "      listaDatos.append([keyIndex, keyNome, keySobrenome, keyLogin, keySenha])\n",
        "      print('Ussuário cadastrado com sucesso!')\n",
        "    else:\n",
        "      print('Algum de seus dados é inválido. Por favor, inserir sus dados novamente.')\n",
        "\n",
        "    # Pergunta-se para o usuário se quiser fazer login agora:  \n",
        "\n",
        "    loginAhora = str(input('Deseja acessar na suaconta agora? ')).lower()\n",
        "    if loginAhora == 'sim':\n",
        "        while numeroTentativas <= 2:\n",
        "          print('Profavor ingresar suas credenciais')\n",
        "          loginUssuario = str(input('Por favor, insira seu Login: ')).lower()\n",
        "          senhaUssuario = str(input('Por favor, insira seu Senha: '))\n",
        "          for el in listaDatos:\n",
        "            if (loginUssuario == el[3]) and (senhaUssuario == el[4]):\n",
        "              print(f'Bem-vindo {el[1].capitalize()}!')\n",
        "              numeroTentativas = 3\n",
        "            else:\n",
        "              print('Algum de seus dados (Login ou Senha) é inválido. Por favor, inserir sus dados novamente.')\n",
        "              numeroTentativas += 1\n",
        "      \n",
        "    else:\n",
        "        print('Obrigado por se cadastrar, seja muito bem-vindo e até mais!')\n",
        "\n",
        "# Se a ação escolhida for login, solicitam-se as informações do usuário e senha cadastradas (Ex.: email, senha):\n",
        "\n",
        "\n",
        "elif acaoUssuario == 'login':\n",
        "  while numeroTentativas <= 2:\n",
        "    print('Profavor ingresar suas credenciais')\n",
        "    loginUssuario = str(input('Por favor, insira seu Login: ')).lower()\n",
        "    senhaUssuario = str(input('Por favor, insira seu Senha: '))\n",
        "    for el in listaDatos:\n",
        "      if (loginUssuario == el[3]) and (senhaUssuario == el[4]):\n",
        "        print(int(f'Bem-vindo {el[1].capitalize()}!'))\n",
        "        numeroTentativas = 3\n",
        "      else:\n",
        "        print('Algum de seus dados (Login ou Senha) é inválido. Por favor, inserir sus dados novamente.')\n",
        "        numeroTentativas += 1\n",
        "\n",
        "# Se a ação escolhida não for nem cadastro, nem login, retorna-se a mensagem \"Por favor, consulte outras informações em nosso site. Obrigado!\":\n",
        "\n",
        "else:\n",
        "  print('Por favor, consulte otras informações em nosso site. Obrigado!')"
      ],
      "metadata": {
        "colab": {
          "base_uri": "https://localhost:8080/"
        },
        "id": "bL9q00c4MhVk",
        "outputId": "48d3507e-a72a-493b-d42e-926ef99215b9"
      },
      "execution_count": 38,
      "outputs": [
        {
          "output_type": "stream",
          "name": "stdout",
          "text": [
            "Por favor, informe qual o procedimento desejado (\"Cadastro\")? cadastro\n",
            "Por favor ingresar os dados solicitados\n",
            "Por favor, informe seu Nome: a\n",
            "Por favor, informe seu Sobrenome: b\n",
            "Por favor, informe seu E-mail (Login): a@gmail.com\n",
            "Por favor, informe sua Senha: 12\n",
            "Ussuário cadastrado com sucesso!\n",
            "Deseja acessar na suaconta agora? sim\n",
            "Profavor ingresar suas credenciais\n",
            "Por favor, insira seu Login: a@gmail.com\n",
            "Por favor, insira seu Senha: 12\n",
            "Algum de seus dados (Login ou Senha) é inválido. Por favor, inserir sus dados novamente.\n",
            "Bem-vindo A!\n"
          ]
        }
      ]
    },
    {
      "cell_type": "code",
      "execution_count": null,
      "metadata": {
        "id": "4o__pl8WLnTW"
      },
      "outputs": [],
      "source": []
    }
  ]
}