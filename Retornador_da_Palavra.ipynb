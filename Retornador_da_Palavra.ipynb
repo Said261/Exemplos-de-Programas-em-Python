{
  "cells": [
    {
      "cell_type": "markdown",
      "metadata": {
        "id": "view-in-github",
        "colab_type": "text"
      },
      "source": [
        "<a href=\"https://colab.research.google.com/github/Said261/Exemplos-de-Programas-em-Python/blob/main/Retornador_da_Palavra.ipynb\" target=\"_parent\"><img src=\"https://colab.research.google.com/assets/colab-badge.svg\" alt=\"Open In Colab\"/></a>"
      ]
    },
    {
      "cell_type": "markdown",
      "metadata": {
        "id": "HJZHTJrHaszv"
      },
      "source": [
        "# Retornador da Palavra\n",
        " \n",
        " ## O seguinte programa pede para o usuário introduzir uma frase (cadeia de caráteres) e retorna a primeira palavra com maior número de letras repetidas."
      ]
    },
    {
      "cell_type": "markdown",
      "source": [
        "### Importamos as libreias necessárias"
      ],
      "metadata": {
        "id": "tK5eCzY2_ulb"
      }
    },
    {
      "cell_type": "code",
      "execution_count": 54,
      "metadata": {
        "id": "hmoFlwrwbTyo"
      },
      "outputs": [],
      "source": [
        "from collections import Counter"
      ]
    },
    {
      "cell_type": "markdown",
      "source": [
        "### Solicita-se ao usuário introduzir sua frase"
      ],
      "metadata": {
        "id": "EGnub16KBP39"
      }
    },
    {
      "cell_type": "code",
      "source": [
        "fraseUssuario = str(input('Por favor incerir uma frasse: ')).lower()"
      ],
      "metadata": {
        "colab": {
          "base_uri": "https://localhost:8080/"
        },
        "id": "4e8CClrQBreO",
        "outputId": "544871a9-4fdf-49db-973e-6f47b057a5f0"
      },
      "execution_count": 55,
      "outputs": [
        {
          "name": "stdout",
          "output_type": "stream",
          "text": [
            "Por favor incerir uma frasse: flaco con mama\n"
          ]
        }
      ]
    },
    {
      "cell_type": "markdown",
      "source": [
        "### Declaramos as variáveis e listas vazias que utilizaremos mais adiante e criamos uma lista com as palavras da frase recebida"
      ],
      "metadata": {
        "id": "w4Ph8ApCBvOX"
      }
    },
    {
      "cell_type": "code",
      "execution_count": 56,
      "metadata": {
        "id": "RjsktXbUapkJ"
      },
      "outputs": [],
      "source": [
        "i, j = 0, 0\n",
        "cantidadLetras_Palavras = []\n",
        "llavesDiccionario = []\n",
        "palavrasFrase = fraseUssuario.split()"
      ]
    },
    {
      "cell_type": "markdown",
      "source": [
        "### 1) Criamos um ciclo \"for\" para percorrer um bucle de elementos com valores entre 0 e a longitude da lista de palavras da frase.\n",
        "\n",
        "### 2) Geramos um dicionário que contenha cada letra como chave e a quantidade de vesses que aparece como valor.\n",
        "\n",
        "### 3) Criamos uma tupla com as chaves do dicionário.\n",
        "\n",
        "### 4) Criamos mais um ciclo \"for\" para percorrer a tupla de chaves e achar a palavra que tem que ser retornada.\n",
        "\n",
        "### 5) O primeiro condicional \"if\" permite saber se existe uma palavra com mais de uma letra repetida dentro da frase.\n",
        "\n",
        "### 6) O segundo condicional permite retornar menos um (-1) se não há uma palavra com letras repetidas dentro da frase."
      ],
      "metadata": {
        "id": "MjzOALn9CQJn"
      }
    },
    {
      "cell_type": "code",
      "source": [
        "for i in range(0,len(palavrasFrase)):\n",
        "  caracteres = dict(Counter(palavrasFrase[i]))\n",
        "  keys = tuple(caracteres.keys())\n",
        "  for el in keys:\n",
        "    if (caracteres[el] >= 2) and (j == 0):\n",
        "      print(palavrasFrase[i])\n",
        "      j += 1\n",
        "  i += 1\n",
        "  if (i == len(palavrasFrase)) and (j == 0):\n",
        "    print('-1')"
      ],
      "metadata": {
        "colab": {
          "base_uri": "https://localhost:8080/"
        },
        "id": "-gpFjUrRCQ_8",
        "outputId": "79d97161-26c0-46b8-f434-39805b84c96a"
      },
      "execution_count": 57,
      "outputs": [
        {
          "output_type": "stream",
          "name": "stdout",
          "text": [
            "mama\n"
          ]
        }
      ]
    }
  ],
  "metadata": {
    "colab": {
      "provenance": [],
      "authorship_tag": "ABX9TyOnzhKPlRFwaCrRBKOad4yS",
      "include_colab_link": true
    },
    "kernelspec": {
      "display_name": "Python 3",
      "name": "python3"
    },
    "language_info": {
      "name": "python"
    }
  },
  "nbformat": 4,
  "nbformat_minor": 0
}