{
  "nbformat": 4,
  "nbformat_minor": 0,
  "metadata": {
    "colab": {
      "provenance": [],
      "authorship_tag": "ABX9TyN40r7rJLyqZjzrLKYIgG26",
      "include_colab_link": true
    },
    "kernelspec": {
      "name": "python3",
      "display_name": "Python 3"
    },
    "language_info": {
      "name": "python"
    }
  },
  "cells": [
    {
      "cell_type": "markdown",
      "metadata": {
        "id": "view-in-github",
        "colab_type": "text"
      },
      "source": [
        "<a href=\"https://colab.research.google.com/github/Said261/Exemplos-de-Programas-em-Python/blob/main/Retorna_a_Interse%C3%A7%C3%A3o_Entre_Conjuntos.ipynb\" target=\"_parent\"><img src=\"https://colab.research.google.com/assets/colab-badge.svg\" alt=\"Open In Colab\"/></a>"
      ]
    },
    {
      "cell_type": "markdown",
      "source": [
        "# O seguinte código retorna a interseção entre dois conjuntos de números\n",
        "\n",
        "### Importamos os pacotes necessários:"
      ],
      "metadata": {
        "id": "Cg1nLMziW1uR"
      }
    },
    {
      "cell_type": "code",
      "source": [
        "import re"
      ],
      "metadata": {
        "id": "HCHwsoKLXfSZ"
      },
      "execution_count": 18,
      "outputs": []
    },
    {
      "cell_type": "markdown",
      "source": [
        "### Definimos nossa função que recebe uma lista com duas Strings e faz a seguinte sequência de operações:\n",
        "\n",
        "1. Substituem-se os caracteres especiais (,) por espaços em branco (\" \") e criam-se duas listas com os conjuntos a serem comparados\n",
        "2. Divide o valor recebido na entrada y torna-a duas listas\n",
        "3. Cria uma lista vazia que será utilizada logo a seguir\n",
        "4. Criamos um ciclo \"for\" para percorrer um bucle de elementos com valores entre 0 e a longitude da lista \"cadenaUno\"\n",
        "5. Utilizando o condicional \"if\" comparamos si há um elemento da \"cadenaUno\" na \"cadenaDos\", no caso de existir, adiciona-se à lista vazia\n",
        "6. Por último, criamos um condicional para retornar os valores da interseção se a longitude da lista é maior que zero ou a palavra \"false\" em caso contrario"
      ],
      "metadata": {
        "id": "Yp6rdsWjX4R-"
      }
    },
    {
      "cell_type": "code",
      "source": [
        "def FindIntersection(strArr):\n",
        "\n",
        "  cadenaEntrada_1 = re.sub(r'[^\\w\\s]','',str(strArr[0]))\n",
        "  cadenaEntrada_2 = re.sub(r'[^\\w\\s]','',str(strArr[1]))\n",
        "\n",
        "  cadenaUno = cadenaEntrada_1.split()\n",
        "  cadenaDos = cadenaEntrada_2.split()\n",
        "  cadenaIntersecao =[]\n",
        "\n",
        "  for i in range(0,len(cadenaUno)):\n",
        "    if (cadenaUno[i] in cadenaDos):\n",
        "      cadenaIntersecao.append(int(cadenaUno[i]))\n",
        "      cadenaIntersecao.sort()\n",
        "\n",
        "  if len(cadenaIntersecao) > 0:\n",
        "    return cadenaIntersecao\n",
        "  else:\n",
        "    return 'false'"
      ],
      "metadata": {
        "id": "fKiF65BFb-Lr"
      },
      "execution_count": 19,
      "outputs": []
    },
    {
      "cell_type": "markdown",
      "source": [
        "### Testando nosso código"
      ],
      "metadata": {
        "id": "9GkaPJEEd0Sy"
      }
    },
    {
      "cell_type": "code",
      "execution_count": 17,
      "metadata": {
        "colab": {
          "base_uri": "https://localhost:8080/"
        },
        "id": "uKdvW6d_R9ee",
        "outputId": "632cb8e7-a785-4749-a95a-111b3330371f"
      },
      "outputs": [
        {
          "output_type": "execute_result",
          "data": {
            "text/plain": [
              "([3], [1, 4, 13], [1, 9, 10])"
            ]
          },
          "metadata": {},
          "execution_count": 17
        }
      ],
      "source": [
        "FindIntersection([\"1, 3, 9, 10, 17, 18\", \"0, 3, 8, 19, 20, 21\"]),\\\n",
        "FindIntersection([\"1, 3, 4, 7, 13\", \"1, 2, 4, 13, 15\"]),\\\n",
        "FindIntersection([\"1, 3, 9, 10, 17, 18\", \"1, 4, 9, 10\"])"
      ]
    }
  ]
}