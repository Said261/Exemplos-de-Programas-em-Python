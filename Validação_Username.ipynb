{
  "nbformat": 4,
  "nbformat_minor": 0,
  "metadata": {
    "colab": {
      "provenance": [],
      "authorship_tag": "ABX9TyMSXIA340RqVPVcLTChCbbp",
      "include_colab_link": true
    },
    "kernelspec": {
      "name": "python3",
      "display_name": "Python 3"
    },
    "language_info": {
      "name": "python"
    }
  },
  "cells": [
    {
      "cell_type": "markdown",
      "metadata": {
        "id": "view-in-github",
        "colab_type": "text"
      },
      "source": [
        "<a href=\"https://colab.research.google.com/github/Said261/Exemplos-de-Programas-em-Python/blob/main/Valida%C3%A7%C3%A3o_Username.ipynb\" target=\"_parent\"><img src=\"https://colab.research.google.com/assets/colab-badge.svg\" alt=\"Open In Colab\"/></a>"
      ]
    },
    {
      "cell_type": "markdown",
      "source": [
        "# Validação de nome de usuário Codeland\n",
        "Faça com que a função CodelandUsernameValidation(str) pegue o parâmetro str sendo passado e determine se a string é um nome de usuário válido de acordo com as seguintes regras:\n",
        "\n",
        "1. O nome de usuário tem entre 4 e 25 caracteres.\n",
        "2. Deve começar com uma letra.\n",
        "3. Pode conter apenas letras, números e o caractere de sublinhado.\n",
        "4. Não pode terminar com um caractere de sublinhado.\n",
        "\n",
        "Se o nome de usuário for válido, seu programa deve retornar a string true, caso contrário, retornar a string false."
      ],
      "metadata": {
        "id": "KnEfRAfS9EcY"
      }
    },
    {
      "cell_type": "markdown",
      "source": [
        "## Importamos os pacotes necessários"
      ],
      "metadata": {
        "id": "x42EZe-m-Nuk"
      }
    },
    {
      "cell_type": "code",
      "source": [
        "import re"
      ],
      "metadata": {
        "id": "bc2NDVAa9Qik"
      },
      "execution_count": 3,
      "outputs": []
    },
    {
      "cell_type": "markdown",
      "source": [
        "## Criamos nossa função \"CodelandUsernameValidation\""
      ],
      "metadata": {
        "id": "Blw2VgnN-Fnp"
      }
    },
    {
      "cell_type": "code",
      "execution_count": 6,
      "metadata": {
        "colab": {
          "base_uri": "https://localhost:8080/"
        },
        "id": "DWtSZugzpqe2",
        "outputId": "f5ebbc7c-b0af-4683-d694-16037442638b"
      },
      "outputs": [
        {
          "output_type": "stream",
          "name": "stdout",
          "text": [
            "u__hello_world123_\n",
            "false\n"
          ]
        }
      ],
      "source": [
        "def CodelandUsernameValidation(strParam):\n",
        "\n",
        "  # Limpamos a strings substituindo \"_\" por \"@\"\n",
        "\n",
        "  strParam_1 = re.sub('_','@',strParam)\n",
        "\n",
        "  # Criamos uma lista com os caráteres recebidos do usuário\n",
        "\n",
        "  strParam_1_list = strParam_1.split()\n",
        "  strParam = strParam_1_list[0]\n",
        "  \n",
        "  # Criamos duas listas com os caráteres de interesse\n",
        "\n",
        "  alphabet_list = ['a','b','c','d',\\\n",
        "  'e','f','g','h','i','j','k','l','m',\\\n",
        "  'n','o','p','q','r','s','t','u','v',\\\n",
        "  'w','x','y','z']\n",
        "  natural_numbers_list = ['0','1','2','3','4','5','6','7','8','9','@']\n",
        "\n",
        "  # Definimos as condições requeridas para a validação\n",
        "\n",
        "  if (len(strParam) >= 4) and (len(strParam) <= 25):\n",
        "    if (strParam[0] in alphabet_list) and (strParam[len(strParam)-1] != '@'):\n",
        "      for i in range(0,len(strParam)-1):\n",
        "        if (strParam[i] in alphabet_list) or (strParam[i] in natural_numbers_list):\n",
        "          return 'true' #strParam, len(strParam)\n",
        "        else:\n",
        "          return 'false'\n",
        "    else:\n",
        "      return 'false'\n",
        "  else:\n",
        "    return 'false'\n",
        "\n",
        "# keep this function call here \n",
        "print(CodelandUsernameValidation(input()))\n",
        "\n",
        "# Testamos nossa função com u__hello_world123"
      ]
    }
  ]
}